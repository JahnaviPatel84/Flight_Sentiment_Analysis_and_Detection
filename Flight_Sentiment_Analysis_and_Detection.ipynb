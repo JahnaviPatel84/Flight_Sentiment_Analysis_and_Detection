{
 "cells": [
  {
   "cell_type": "code",
   "execution_count": 4,
   "id": "7cb8c326-07f5-47ee-a03a-a1dab3f48e8d",
   "metadata": {},
   "outputs": [],
   "source": [
    "# !pip install datasets\n",
    "import pandas as pd\n",
    "import numpy as np\n",
    "import matplotlib.pyplot as plt\n",
    "import seaborn as sns\n",
    "from datasets import Dataset\n",
    "from transformers import DistilBertTokenizerFast, DistilBertForSequenceClassification, Trainer, TrainingArguments\n",
    "from sklearn.metrics import classification_report, confusion_matrix\n",
    "import torch\n",
    "from sklearn.model_selection import train_test_split"
   ]
  },
  {
   "cell_type": "code",
   "execution_count": 2,
   "id": "7c543f67-82b6-49ae-ab5d-d908f0d30a24",
   "metadata": {},
   "outputs": [
    {
     "name": "stdout",
     "output_type": "stream",
     "text": [
      "                                                text  label\n",
      "0                @VirginAmerica What @dhepburn said.      1\n",
      "1  @VirginAmerica plus you've added commercials t...      2\n",
      "2  @VirginAmerica I didn't today... Must mean I n...      1\n",
      "3  @VirginAmerica it's really aggressive to blast...      0\n",
      "4  @VirginAmerica and it's a really big bad thing...      0\n",
      "label\n",
      "0    9178\n",
      "1    3099\n",
      "2    2363\n",
      "Name: count, dtype: int64\n",
      "                                                text airline_sentiment  \\\n",
      "0                @VirginAmerica What @dhepburn said.           neutral   \n",
      "1  @VirginAmerica plus you've added commercials t...          positive   \n",
      "2  @VirginAmerica I didn't today... Must mean I n...           neutral   \n",
      "3  @VirginAmerica it's really aggressive to blast...          negative   \n",
      "4  @VirginAmerica and it's a really big bad thing...          negative   \n",
      "\n",
      "          airline negativereason  airline_sentiment_confidence  retweet_count  \\\n",
      "0  Virgin America        Unknown                        1.0000              0   \n",
      "1  Virgin America        Unknown                        0.3486              0   \n",
      "2  Virgin America        Unknown                        0.6837              0   \n",
      "3  Virgin America     Bad Flight                        1.0000              0   \n",
      "4  Virgin America     Can't Tell                        1.0000              0   \n",
      "\n",
      "               tweet_created  label  \n",
      "0  2015-02-24 11:35:52 -0800      1  \n",
      "1  2015-02-24 11:15:59 -0800      2  \n",
      "2  2015-02-24 11:15:48 -0800      1  \n",
      "3  2015-02-24 11:15:36 -0800      0  \n",
      "4  2015-02-24 11:14:45 -0800      0  \n"
     ]
    }
   ],
   "source": [
    "# Load full dataset\n",
    "df = pd.read_csv(\"Tweets.csv\")\n",
    "\n",
    "# Keep columns we might use later (optional: name, airline, etc.)\n",
    "keep_cols = ['text', 'airline_sentiment', 'airline', 'negativereason', \n",
    "             'airline_sentiment_confidence', 'retweet_count', 'tweet_created']\n",
    "df = df[keep_cols]\n",
    "\n",
    "# Drop only rows where required columns are missing\n",
    "df = df.dropna(subset=['text', 'airline_sentiment'])\n",
    "\n",
    "# Encode labels properly\n",
    "label_map = {'negative': 0, 'neutral': 1, 'positive': 2}\n",
    "df['label'] = df['airline_sentiment'].map(label_map)\n",
    "\n",
    "# Optional: fill or tag non-critical NaNs\n",
    "df['negativereason'] = df['negativereason'].fillna('Unknown')\n",
    "df['airline'] = df['airline'].fillna('Unknown')\n",
    "df['airline_sentiment_confidence'] = df['airline_sentiment_confidence'].fillna(0.0)\n",
    "\n",
    "# Keep only necessary columns for training\n",
    "df_model = df[['text', 'label']].copy()\n",
    "\n",
    "print(df_model.head())\n",
    "print(df_model.label.value_counts())\n",
    "print(df.head())"
   ]
  },
  {
   "cell_type": "code",
   "execution_count": 5,
   "id": "d4874e88-496a-4a21-a241-05e7d66250a3",
   "metadata": {},
   "outputs": [
    {
     "data": {
      "application/vnd.jupyter.widget-view+json": {
       "model_id": "9318ec5569424810a64f93d4b968c753",
       "version_major": 2,
       "version_minor": 0
      },
      "text/plain": [
       "Map:   0%|          | 0/11712 [00:00<?, ? examples/s]"
      ]
     },
     "metadata": {},
     "output_type": "display_data"
    },
    {
     "data": {
      "application/vnd.jupyter.widget-view+json": {
       "model_id": "f3e137a6fee941b69392cae339a64751",
       "version_major": 2,
       "version_minor": 0
      },
      "text/plain": [
       "Map:   0%|          | 0/2928 [00:00<?, ? examples/s]"
      ]
     },
     "metadata": {},
     "output_type": "display_data"
    }
   ],
   "source": [
    "# Load tokenizer\n",
    "tokenizer = DistilBertTokenizerFast.from_pretrained(\"distilbert-base-uncased\")\n",
    "\n",
    "# Train/Test Split\n",
    "train_df, test_df = train_test_split(df_model, test_size=0.2, stratify=df_model['label'], random_state=42)\n",
    "\n",
    "# Tokenization function\n",
    "def tokenize_function(batch):\n",
    "    return tokenizer(batch['text'], padding=True, truncation=True)\n",
    "\n",
    "# Convert to Hugging Face Dataset\n",
    "train_dataset = Dataset.from_pandas(train_df)\n",
    "test_dataset = Dataset.from_pandas(test_df)\n",
    "\n",
    "# Apply tokenization\n",
    "train_dataset = train_dataset.map(tokenize_function, batched=True)\n",
    "test_dataset = test_dataset.map(tokenize_function, batched=True)\n",
    "\n",
    "# Format dataset for Trainer (PyTorch tensors)\n",
    "train_dataset.set_format(type='torch', columns=['input_ids', 'attention_mask', 'label'])\n",
    "test_dataset.set_format(type='torch', columns=['input_ids', 'attention_mask', 'label'])"
   ]
  },
  {
   "cell_type": "code",
   "execution_count": 6,
   "id": "5c42ef45-332b-470b-adc4-9b15575942e2",
   "metadata": {
    "scrolled": true
   },
   "outputs": [
    {
     "name": "stderr",
     "output_type": "stream",
     "text": [
      "Some weights of DistilBertForSequenceClassification were not initialized from the model checkpoint at distilbert-base-uncased and are newly initialized: ['classifier.bias', 'classifier.weight', 'pre_classifier.bias', 'pre_classifier.weight']\n",
      "You should probably TRAIN this model on a down-stream task to be able to use it for predictions and inference.\n",
      "C:\\Users\\ajhna\\AppData\\Local\\Programs\\Python\\Python312\\Lib\\site-packages\\transformers\\training_args.py:1594: FutureWarning: `evaluation_strategy` is deprecated and will be removed in version 4.46 of 🤗 Transformers. Use `eval_strategy` instead\n",
      "  warnings.warn(\n"
     ]
    }
   ],
   "source": [
    "# Load model for 3-class classification\n",
    "model = DistilBertForSequenceClassification.from_pretrained(\n",
    "    \"distilbert-base-uncased\",\n",
    "    num_labels=3\n",
    ")\n",
    "\n",
    "# Training configuration\n",
    "training_args = TrainingArguments(\n",
    "    output_dir=\"./results\",\n",
    "    learning_rate=2e-5,\n",
    "    per_device_train_batch_size=16,\n",
    "    per_device_eval_batch_size=64,\n",
    "    num_train_epochs=3,\n",
    "    weight_decay=0.01,\n",
    "    evaluation_strategy=\"epoch\",  # Must match save_strategy\n",
    "    save_strategy=\"epoch\",\n",
    "    save_total_limit=1,\n",
    "    load_best_model_at_end=True,\n",
    "    logging_dir=\"./logs\",\n",
    "    logging_steps=10\n",
    ")\n"
   ]
  },
  {
   "cell_type": "code",
   "execution_count": 7,
   "id": "94f242c5-3786-412b-81ed-6523f6970d1a",
   "metadata": {},
   "outputs": [
    {
     "name": "stderr",
     "output_type": "stream",
     "text": [
      "C:\\Users\\ajhna\\AppData\\Local\\Temp\\ipykernel_43520\\1242746443.py:2: FutureWarning: `tokenizer` is deprecated and will be removed in version 5.0.0 for `Trainer.__init__`. Use `processing_class` instead.\n",
      "  trainer = Trainer(\n"
     ]
    },
    {
     "data": {
      "text/html": [
       "\n",
       "    <div>\n",
       "      \n",
       "      <progress value='2196' max='2196' style='width:300px; height:20px; vertical-align: middle;'></progress>\n",
       "      [2196/2196 1:00:07, Epoch 3/3]\n",
       "    </div>\n",
       "    <table border=\"1\" class=\"dataframe\">\n",
       "  <thead>\n",
       " <tr style=\"text-align: left;\">\n",
       "      <th>Epoch</th>\n",
       "      <th>Training Loss</th>\n",
       "      <th>Validation Loss</th>\n",
       "    </tr>\n",
       "  </thead>\n",
       "  <tbody>\n",
       "    <tr>\n",
       "      <td>1</td>\n",
       "      <td>0.418300</td>\n",
       "      <td>0.428241</td>\n",
       "    </tr>\n",
       "    <tr>\n",
       "      <td>2</td>\n",
       "      <td>0.266800</td>\n",
       "      <td>0.442748</td>\n",
       "    </tr>\n",
       "    <tr>\n",
       "      <td>3</td>\n",
       "      <td>0.195900</td>\n",
       "      <td>0.506991</td>\n",
       "    </tr>\n",
       "  </tbody>\n",
       "</table><p>"
      ],
      "text/plain": [
       "<IPython.core.display.HTML object>"
      ]
     },
     "metadata": {},
     "output_type": "display_data"
    },
    {
     "data": {
      "text/plain": [
       "TrainOutput(global_step=2196, training_loss=0.3521910897695302, metrics={'train_runtime': 3612.257, 'train_samples_per_second': 9.727, 'train_steps_per_second': 0.608, 'total_flos': 563070998592576.0, 'train_loss': 0.3521910897695302, 'epoch': 3.0})"
      ]
     },
     "execution_count": 7,
     "metadata": {},
     "output_type": "execute_result"
    }
   ],
   "source": [
    "# Initialize Trainer\n",
    "trainer = Trainer(\n",
    "    model=model,\n",
    "    args=training_args,\n",
    "    train_dataset=train_dataset,\n",
    "    eval_dataset=test_dataset,\n",
    "    tokenizer=tokenizer\n",
    ")\n",
    "\n",
    "# Train the model\n",
    "trainer.train()"
   ]
  },
  {
   "cell_type": "code",
   "execution_count": 8,
   "id": "0deda4e6-68d3-42db-93a1-885a65e717f4",
   "metadata": {},
   "outputs": [
    {
     "data": {
      "text/html": [],
      "text/plain": [
       "<IPython.core.display.HTML object>"
      ]
     },
     "metadata": {},
     "output_type": "display_data"
    },
    {
     "name": "stdout",
     "output_type": "stream",
     "text": [
      "Classification Report:\n",
      "\n",
      "              precision    recall  f1-score   support\n",
      "\n",
      "    negative       0.87      0.94      0.90      1835\n",
      "     neutral       0.72      0.60      0.65       620\n",
      "    positive       0.80      0.76      0.78       473\n",
      "\n",
      "    accuracy                           0.84      2928\n",
      "   macro avg       0.80      0.76      0.78      2928\n",
      "weighted avg       0.83      0.84      0.83      2928\n",
      "\n"
     ]
    }
   ],
   "source": [
    "# Get predictions\n",
    "pred_output = trainer.predict(test_dataset)\n",
    "preds = np.argmax(pred_output.predictions, axis=1)\n",
    "true = pred_output.label_ids\n",
    "labels = ['negative', 'neutral', 'positive']\n",
    "\n",
    "# Classification report\n",
    "print(\"Classification Report:\\n\")\n",
    "print(classification_report(true, preds, target_names=labels))\n"
   ]
  },
  {
   "cell_type": "code",
   "execution_count": 9,
   "id": "a93b0f7b-5a8f-43a3-8a73-6bea1aa0e904",
   "metadata": {},
   "outputs": [
    {
     "data": {
      "image/png": "[encoded data removed]",
      "text/plain": [
       "<Figure size 600x400 with 2 Axes>"
      ]
     },
     "metadata": {},
     "output_type": "display_data"
    }
   ],
   "source": [
    "# Confusion matrix\n",
    "cm = confusion_matrix(true, preds)\n",
    "\n",
    "# Plot\n",
    "plt.figure(figsize=(6, 4))\n",
    "sns.heatmap(cm, annot=True, fmt='d', cmap='Blues', xticklabels=labels, yticklabels=labels)\n",
    "plt.title(\"Confusion Matrix\")\n",
    "plt.xlabel(\"Predicted\")\n",
    "plt.ylabel(\"Actual\")\n",
    "plt.show()"
   ]
  },
  {
   "cell_type": "code",
   "execution_count": 10,
   "id": "8d59405d-0f1e-4e5f-a31b-f82816eeecfd",
   "metadata": {},
   "outputs": [
    {
     "data": {
      "text/html": [
       "<div>\n",
       "<style scoped>\n",
       "    .dataframe tbody tr th:only-of-type {\n",
       "        vertical-align: middle;\n",
       "    }\n",
       "\n",
       "    .dataframe tbody tr th {\n",
       "        vertical-align: top;\n",
       "    }\n",
       "\n",
       "    .dataframe thead th {\n",
       "        text-align: right;\n",
       "    }\n",
       "</style>\n",
       "<table border=\"1\" class=\"dataframe\">\n",
       "  <thead>\n",
       "    <tr style=\"text-align: right;\">\n",
       "      <th></th>\n",
       "      <th>Text</th>\n",
       "      <th>True Label</th>\n",
       "      <th>Predicted</th>\n",
       "    </tr>\n",
       "  </thead>\n",
       "  <tbody>\n",
       "    <tr>\n",
       "      <th>73</th>\n",
       "      <td>@AmericanAir v nice of you to give me a breakf...</td>\n",
       "      <td>positive</td>\n",
       "      <td>negative</td>\n",
       "    </tr>\n",
       "    <tr>\n",
       "      <th>415</th>\n",
       "      <td>@united I've got a campus visit in an hour and...</td>\n",
       "      <td>neutral</td>\n",
       "      <td>negative</td>\n",
       "    </tr>\n",
       "    <tr>\n",
       "      <th>392</th>\n",
       "      <td>@USAirways yeah, the mark was like a mile back...</td>\n",
       "      <td>negative</td>\n",
       "      <td>positive</td>\n",
       "    </tr>\n",
       "    <tr>\n",
       "      <th>278</th>\n",
       "      <td>@JetBlue  if only the show was on the flight. ...</td>\n",
       "      <td>negative</td>\n",
       "      <td>neutral</td>\n",
       "    </tr>\n",
       "    <tr>\n",
       "      <th>400</th>\n",
       "      <td>@USAirways Eyyyy! Cancelled Flightlations, Fli...</td>\n",
       "      <td>positive</td>\n",
       "      <td>negative</td>\n",
       "    </tr>\n",
       "  </tbody>\n",
       "</table>\n",
       "</div>"
      ],
      "text/plain": [
       "                                                  Text True Label Predicted\n",
       "73   @AmericanAir v nice of you to give me a breakf...   positive  negative\n",
       "415  @united I've got a campus visit in an hour and...    neutral  negative\n",
       "392  @USAirways yeah, the mark was like a mile back...   negative  positive\n",
       "278  @JetBlue  if only the show was on the flight. ...   negative   neutral\n",
       "400  @USAirways Eyyyy! Cancelled Flightlations, Fli...   positive  negative"
      ]
     },
     "execution_count": 10,
     "metadata": {},
     "output_type": "execute_result"
    }
   ],
   "source": [
    "# Convert back to DataFrame for inspection\n",
    "test_texts = test_dataset['text']\n",
    "misclassified = []\n",
    "\n",
    "for i in range(len(true)):\n",
    "    if true[i] != preds[i]:\n",
    "        misclassified.append({\n",
    "            \"Text\": test_texts[i],\n",
    "            \"True Label\": true[i],\n",
    "            \"Predicted\": preds[i]\n",
    "        })\n",
    "\n",
    "# Create a DataFrame of misclassifications\n",
    "df_errors = pd.DataFrame(misclassified)\n",
    "\n",
    "# Map numeric labels to strings for readability\n",
    "label_map_rev = {0: 'negative', 1: 'neutral', 2: 'positive'}\n",
    "df_errors['True Label'] = df_errors['True Label'].map(label_map_rev)\n",
    "df_errors['Predicted'] = df_errors['Predicted'].map(label_map_rev)\n",
    "\n",
    "# Show 5 examples\n",
    "df_errors.sample(5)"
   ]
  },
  {
   "cell_type": "code",
   "execution_count": null,
   "id": "706568d0-5a47-4ed9-82b2-e6d125de3ead",
   "metadata": {},
   "outputs": [],
   "source": [
    "# Save the fine-tuned model\n",
    "model.save_pretrained(\"saved_model/\")\n",
    "tokenizer.save_pretrained(\"saved_model/\")"
   ]
  },
  {
   "cell_type": "code",
   "execution_count": 11,
   "id": "e5a6d5f9-89ff-458a-be15-254254c6644e",
   "metadata": {},
   "outputs": [
    {
     "name": "stdout",
     "output_type": "stream",
     "text": [
      "label\n",
      "0    9178\n",
      "1    3099\n",
      "2    2363\n",
      "Name: count, dtype: int64\n",
      "label\n",
      "1    9178\n",
      "0    9178\n",
      "2    2363\n",
      "Name: count, dtype: int64\n"
     ]
    }
   ],
   "source": [
    "from sklearn.utils import resample\n",
    "\n",
    "# Check original class distribution\n",
    "print(df_model['label'].value_counts())\n",
    "\n",
    "# Split into separate classes\n",
    "neutral_df = df_model[df_model['label'] == 1]\n",
    "negative_df = df_model[df_model['label'] == 0]\n",
    "positive_df = df_model[df_model['label'] == 2]\n",
    "\n",
    "# Upsample neutral class to match negative\n",
    "neutral_upsampled = resample(neutral_df,\n",
    "                             replace=True,          # Sample with replacement\n",
    "                             n_samples=len(negative_df),  # Match negative class count\n",
    "                             random_state=42)\n",
    "\n",
    "# Combine with original classes\n",
    "df_balanced = pd.concat([negative_df, positive_df, neutral_upsampled])\n",
    "\n",
    "# Shuffle the combined dataset\n",
    "df_balanced = df_balanced.sample(frac=1, random_state=42).reset_index(drop=True)\n",
    "\n",
    "# Check new distribution\n",
    "print(df_balanced['label'].value_counts())"
   ]
  },
  {
   "cell_type": "code",
   "execution_count": 12,
   "id": "d32c3c61-9602-4a39-b91d-05d4b8134a67",
   "metadata": {},
   "outputs": [
    {
     "data": {
      "application/vnd.jupyter.widget-view+json": {
       "model_id": "f8ddac6829904c54b5a9185908a68d5e",
       "version_major": 2,
       "version_minor": 0
      },
      "text/plain": [
       "vocab.json:   0%|          | 0.00/899k [00:00<?, ?B/s]"
      ]
     },
     "metadata": {},
     "output_type": "display_data"
    },
    {
     "name": "stderr",
     "output_type": "stream",
     "text": [
      "C:\\Users\\ajhna\\AppData\\Local\\Programs\\Python\\Python312\\Lib\\site-packages\\huggingface_hub\\file_download.py:139: UserWarning: `huggingface_hub` cache-system uses symlinks by default to efficiently store duplicated files but your machine does not support them in C:\\Users\\ajhna\\.cache\\huggingface\\hub\\models--cardiffnlp--twitter-roberta-base-sentiment. Caching files will still work but in a degraded version that might require more space on your disk. This warning can be disabled by setting the `HF_HUB_DISABLE_SYMLINKS_WARNING` environment variable. For more details, see https://huggingface.co/docs/huggingface_hub/how-to-cache#limitations.\n",
      "To support symlinks on Windows, you either need to activate Developer Mode or to run Python as an administrator. In order to activate developer mode, see this article: https://docs.microsoft.com/en-us/windows/apps/get-started/enable-your-device-for-development\n",
      "  warnings.warn(message)\n"
     ]
    },
    {
     "data": {
      "application/vnd.jupyter.widget-view+json": {
       "model_id": "e783c591e1d849c8845671f082921fc3",
       "version_major": 2,
       "version_minor": 0
      },
      "text/plain": [
       "merges.txt:   0%|          | 0.00/456k [00:00<?, ?B/s]"
      ]
     },
     "metadata": {},
     "output_type": "display_data"
    },
    {
     "data": {
      "application/vnd.jupyter.widget-view+json": {
       "model_id": "2efb7b1f4475437795f5536ac1ef7f77",
       "version_major": 2,
       "version_minor": 0
      },
      "text/plain": [
       "special_tokens_map.json:   0%|          | 0.00/150 [00:00<?, ?B/s]"
      ]
     },
     "metadata": {},
     "output_type": "display_data"
    },
    {
     "data": {
      "application/vnd.jupyter.widget-view+json": {
       "model_id": "def66872c1064e2f8b38840896398dbf",
       "version_major": 2,
       "version_minor": 0
      },
      "text/plain": [
       "config.json:   0%|          | 0.00/747 [00:00<?, ?B/s]"
      ]
     },
     "metadata": {},
     "output_type": "display_data"
    },
    {
     "data": {
      "application/vnd.jupyter.widget-view+json": {
       "model_id": "56183e78eaee465fbb5de64ab4d5da62",
       "version_major": 2,
       "version_minor": 0
      },
      "text/plain": [
       "pytorch_model.bin:   0%|          | 0.00/499M [00:00<?, ?B/s]"
      ]
     },
     "metadata": {},
     "output_type": "display_data"
    }
   ],
   "source": [
    "from transformers import RobertaTokenizerFast, RobertaForSequenceClassification\n",
    "\n",
    "# Load Twitter-RoBERTa (note: 3 classes - positive, neutral, negative)\n",
    "model_name = \"cardiffnlp/twitter-roberta-base-sentiment\"\n",
    "\n",
    "tokenizer_roberta = RobertaTokenizerFast.from_pretrained(model_name)\n",
    "model_roberta = RobertaForSequenceClassification.from_pretrained(model_name)"
   ]
  },
  {
   "cell_type": "code",
   "execution_count": 13,
   "id": "5db68aff-2870-4fa4-8e4e-e7fcb0bb56db",
   "metadata": {},
   "outputs": [
    {
     "data": {
      "application/vnd.jupyter.widget-view+json": {
       "model_id": "a560fd8477d24c509193a69e87763c4a",
       "version_major": 2,
       "version_minor": 0
      },
      "text/plain": [
       "Map:   0%|          | 0/16575 [00:00<?, ? examples/s]"
      ]
     },
     "metadata": {},
     "output_type": "display_data"
    },
    {
     "name": "stderr",
     "output_type": "stream",
     "text": [
      "Asking to truncate to max_length but no maximum length is provided and the model has no predefined maximum length. Default to no truncation.\n"
     ]
    },
    {
     "data": {
      "application/vnd.jupyter.widget-view+json": {
       "model_id": "736d8e977c744f34a66ab85c7a5b3b9f",
       "version_major": 2,
       "version_minor": 0
      },
      "text/plain": [
       "Map:   0%|          | 0/4144 [00:00<?, ? examples/s]"
      ]
     },
     "metadata": {},
     "output_type": "display_data"
    }
   ],
   "source": [
    "from datasets import Dataset\n",
    "from sklearn.model_selection import train_test_split\n",
    "\n",
    "# Split df_balanced into train/test\n",
    "train_df, test_df = train_test_split(df_balanced, test_size=0.2, stratify=df_balanced['label'], random_state=42)\n",
    "\n",
    "# Tokenization function for RoBERTa\n",
    "def tokenize_roberta(batch):\n",
    "    return tokenizer_roberta(batch['text'], padding=True, truncation=True)\n",
    "\n",
    "# Convert to HF Datasets\n",
    "train_dataset = Dataset.from_pandas(train_df)\n",
    "test_dataset = Dataset.from_pandas(test_df)\n",
    "\n",
    "# Tokenize\n",
    "train_dataset = train_dataset.map(tokenize_roberta, batched=True)\n",
    "test_dataset = test_dataset.map(tokenize_roberta, batched=True)\n",
    "\n",
    "# Format for Trainer\n",
    "train_dataset.set_format(type='torch', columns=['input_ids', 'attention_mask', 'label'])\n",
    "test_dataset.set_format(type='torch', columns=['input_ids', 'attention_mask', 'label'])"
   ]
  },
  {
   "cell_type": "code",
   "execution_count": 14,
   "id": "2d3f9261-9bef-40fc-bb4e-f03e1ce2c348",
   "metadata": {},
   "outputs": [
    {
     "name": "stderr",
     "output_type": "stream",
     "text": [
      "C:\\Users\\ajhna\\AppData\\Local\\Programs\\Python\\Python312\\Lib\\site-packages\\transformers\\training_args.py:1594: FutureWarning: `evaluation_strategy` is deprecated and will be removed in version 4.46 of 🤗 Transformers. Use `eval_strategy` instead\n",
      "  warnings.warn(\n"
     ]
    }
   ],
   "source": [
    "from transformers import TrainingArguments, Trainer\n",
    "\n",
    "training_args_roberta = TrainingArguments(\n",
    "    output_dir=\"./results-roberta\",\n",
    "    learning_rate=2e-5,\n",
    "    per_device_train_batch_size=16,\n",
    "    per_device_eval_batch_size=64,\n",
    "    num_train_epochs=3,\n",
    "    weight_decay=0.01,\n",
    "    evaluation_strategy=\"epoch\",  # Match save strategy\n",
    "    save_strategy=\"epoch\",\n",
    "    save_total_limit=1,\n",
    "    load_best_model_at_end=True,\n",
    "    logging_dir=\"./logs-roberta\",\n",
    "    logging_steps=10\n",
    ")"
   ]
  },
  {
   "cell_type": "code",
   "execution_count": 15,
   "id": "3e8e513d-c60a-48ef-a1eb-2490e5d8afec",
   "metadata": {},
   "outputs": [
    {
     "name": "stderr",
     "output_type": "stream",
     "text": [
      "C:\\Users\\ajhna\\AppData\\Local\\Temp\\ipykernel_43520\\2081627165.py:1: FutureWarning: `tokenizer` is deprecated and will be removed in version 5.0.0 for `Trainer.__init__`. Use `processing_class` instead.\n",
      "  trainer_roberta = Trainer(\n"
     ]
    },
    {
     "data": {
      "text/html": [
       "\n",
       "    <div>\n",
       "      \n",
       "      <progress value='3108' max='3108' style='width:300px; height:20px; vertical-align: middle;'></progress>\n",
       "      [3108/3108 5:34:49, Epoch 3/3]\n",
       "    </div>\n",
       "    <table border=\"1\" class=\"dataframe\">\n",
       "  <thead>\n",
       " <tr style=\"text-align: left;\">\n",
       "      <th>Epoch</th>\n",
       "      <th>Training Loss</th>\n",
       "      <th>Validation Loss</th>\n",
       "    </tr>\n",
       "  </thead>\n",
       "  <tbody>\n",
       "    <tr>\n",
       "      <td>1</td>\n",
       "      <td>0.251400</td>\n",
       "      <td>0.305228</td>\n",
       "    </tr>\n",
       "    <tr>\n",
       "      <td>2</td>\n",
       "      <td>0.168600</td>\n",
       "      <td>0.314865</td>\n",
       "    </tr>\n",
       "    <tr>\n",
       "      <td>3</td>\n",
       "      <td>0.097100</td>\n",
       "      <td>0.358791</td>\n",
       "    </tr>\n",
       "  </tbody>\n",
       "</table><p>"
      ],
      "text/plain": [
       "<IPython.core.display.HTML object>"
      ]
     },
     "metadata": {},
     "output_type": "display_data"
    },
    {
     "data": {
      "text/plain": [
       "TrainOutput(global_step=3108, training_loss=0.2512779079684496, metrics={'train_runtime': 20098.8714, 'train_samples_per_second': 2.474, 'train_steps_per_second': 0.155, 'total_flos': 2992564651361292.0, 'train_loss': 0.2512779079684496, 'epoch': 3.0})"
      ]
     },
     "execution_count": 15,
     "metadata": {},
     "output_type": "execute_result"
    }
   ],
   "source": [
    "trainer_roberta = Trainer(\n",
    "    model=model_roberta,\n",
    "    args=training_args_roberta,\n",
    "    train_dataset=train_dataset,\n",
    "    eval_dataset=test_dataset,\n",
    "    tokenizer=tokenizer_roberta\n",
    ")\n",
    "\n",
    "# 🚀 Train the model\n",
    "trainer_roberta.train()"
   ]
  },
  {
   "cell_type": "code",
   "execution_count": 16,
   "id": "149e297a-bfff-41dc-94dc-a27220982c75",
   "metadata": {},
   "outputs": [
    {
     "data": {
      "text/html": [],
      "text/plain": [
       "<IPython.core.display.HTML object>"
      ]
     },
     "metadata": {},
     "output_type": "display_data"
    },
    {
     "name": "stdout",
     "output_type": "stream",
     "text": [
      "📊 Classification Report (Twitter-RoBERTa):\n",
      "\n",
      "              precision    recall  f1-score   support\n",
      "\n",
      "    negative       0.94      0.90      0.92      1836\n",
      "     neutral       0.89      0.92      0.90      1836\n",
      "    positive       0.79      0.83      0.81       472\n",
      "\n",
      "    accuracy                           0.90      4144\n",
      "   macro avg       0.87      0.88      0.88      4144\n",
      "weighted avg       0.90      0.90      0.90      4144\n",
      "\n"
     ]
    }
   ],
   "source": [
    "# Get predictions\n",
    "pred_output_roberta = trainer_roberta.predict(test_dataset)\n",
    "preds_roberta = np.argmax(pred_output_roberta.predictions, axis=1)\n",
    "true_roberta = pred_output_roberta.label_ids\n",
    "\n",
    "labels = ['negative', 'neutral', 'positive']\n",
    "\n",
    "# Classification report\n",
    "print(\"📊 Classification Report (Twitter-RoBERTa):\\n\")\n",
    "print(classification_report(true_roberta, preds_roberta, target_names=labels))\n"
   ]
  },
  {
   "cell_type": "code",
   "execution_count": 17,
   "id": "54c95c20-f23e-4189-a045-f6eb8d2af115",
   "metadata": {},
   "outputs": [
    {
     "data": {
      "image/png": "[encoded data removed]",
      "text/plain": [
       "<Figure size 600x400 with 2 Axes>"
      ]
     },
     "metadata": {},
     "output_type": "display_data"
    }
   ],
   "source": [
    "cm_roberta = confusion_matrix(true_roberta, preds_roberta)\n",
    "\n",
    "plt.figure(figsize=(6, 4))\n",
    "sns.heatmap(cm_roberta, annot=True, fmt='d', cmap='Purples', xticklabels=labels, yticklabels=labels)\n",
    "plt.title(\"Twitter-RoBERTa Confusion Matrix\")\n",
    "plt.xlabel(\"Predicted\")\n",
    "plt.ylabel(\"Actual\")\n",
    "plt.show()"
   ]
  },
  {
   "cell_type": "code",
   "execution_count": 18,
   "id": "991d94c8-625c-467d-8d28-26c98a96f32d",
   "metadata": {},
   "outputs": [
    {
     "data": {
      "text/plain": [
       "('saved_models/roberta_sentiment\\\\tokenizer_config.json',\n",
       " 'saved_models/roberta_sentiment\\\\special_tokens_map.json',\n",
       " 'saved_models/roberta_sentiment\\\\vocab.json',\n",
       " 'saved_models/roberta_sentiment\\\\merges.txt',\n",
       " 'saved_models/roberta_sentiment\\\\added_tokens.json',\n",
       " 'saved_models/roberta_sentiment\\\\tokenizer.json')"
      ]
     },
     "execution_count": 18,
     "metadata": {},
     "output_type": "execute_result"
    }
   ],
   "source": [
    "model.save_pretrained(\"saved_models/distilbert_sentiment\")\n",
    "tokenizer.save_pretrained(\"saved_models/distilbert_sentiment\")\n",
    "\n",
    "# For Twitter-RoBERTa\n",
    "model_roberta.save_pretrained(\"saved_models/roberta_sentiment\")\n",
    "tokenizer_roberta.save_pretrained(\"saved_models/roberta_sentiment\")"
   ]
  },
  {
   "cell_type": "code",
   "execution_count": null,
   "id": "21ea2e22-9258-47e8-98b0-b9fb96a8ca2a",
   "metadata": {},
   "outputs": [],
   "source": []
  }
 ],
 "metadata": {
  "kernelspec": {
   "display_name": "Python 3 (ipykernel)",
   "language": "python",
   "name": "python3"
  },
  "language_info": {
   "codemirror_mode": {
    "name": "ipython",
    "version": 3
   },
   "file_extension": ".py",
   "mimetype": "text/x-python",
   "name": "python",
   "nbconvert_exporter": "python",
   "pygments_lexer": "ipython3",
   "version": "3.12.4"
  }
 },
 "nbformat": 4,
 "nbformat_minor": 5
}
